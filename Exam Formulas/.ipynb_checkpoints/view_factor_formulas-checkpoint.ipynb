{
 "cells": [
  {
   "cell_type": "code",
   "execution_count": 2,
   "metadata": {},
   "outputs": [],
   "source": [
    "import numpy as np"
   ]
  },
  {
   "cell_type": "markdown",
   "metadata": {},
   "source": [
    "# 3D"
   ]
  },
  {
   "cell_type": "markdown",
   "metadata": {},
   "source": [
    "### Aligned Parallel Rectangles\n",
    "\n",
    "<img src=\"img\\1.png\">\n",
    "\n",
    "$$\\bar{X}=\\frac{X}{L}\\text{ and }\\bar{Y}=\\frac{Y}{L}$$\n",
    "\n",
    "$$F_{i\\rightarrow j}=\\frac{2}{\\pi\\bar{X}\\bar{Y}}\\left [\\ln\\left [\\frac{(1+\\bar{X}^2)(1+\\bar{Y}^2)}{1+\\bar{X}^2+\\bar{Y}^2}\\right ]^{1/2}+\\bar{X}(1+\\bar{Y}^2)^{1/2}\\tan^{-1}\\left(\\frac{\\bar{X}}{(1+\\bar{Y}^2)^{1/2}}\\right)+\\bar{Y}(1+\\bar{X}^2)^{1/2}\\tan^{-1}\\left(\\frac{\\bar{Y}}{(1+\\bar{X}^2)^{1/2}}\\right)+\\bar{X}\\tan^{-1}(\\bar{X})-\\bar{Y}\\tan^{-1}(\\bar{Y})\\right]$$"
   ]
  },
  {
   "cell_type": "code",
   "execution_count": 58,
   "metadata": {},
   "outputs": [],
   "source": [
    "# Inputs\n",
    "x = 1\n",
    "y = 1\n",
    "L = 1"
   ]
  },
  {
   "cell_type": "code",
   "execution_count": 59,
   "metadata": {},
   "outputs": [
    {
     "name": "stdout",
     "output_type": "stream",
     "text": [
      "0.28741037067894437\n"
     ]
    }
   ],
   "source": [
    "X = x/L\n",
    "Y = y/L\n",
    "\n",
    "F = (2/np.pi*X*Y)*(np.log(((1+X**2)*(1+Y**2))/(1+X**2+Y**2))**(1/2)+X*(1*Y**2)**(1/2)*np.arctan(X/(1+Y**2)**(1/2))+Y*(1+X**2)**(1/2)*np.arctan(Y/(1+X**2)**(1/2))-X*np.arctan(X)-Y*np.arctan(Y))\n",
    "print(F)"
   ]
  },
  {
   "cell_type": "markdown",
   "metadata": {},
   "source": [
    "### Coaxial Parallel Disks\n",
    "\n",
    "<img src=\"\\img\\2.png\">\n",
    "\n",
    "$$R_i=\\frac{r_i}{L}\\text{ and }R_j=\\frac{r_j}{L}$$\n",
    "\n",
    "$$S = 1+\\frac{1+R_j^2}{R_i^2}$$\n",
    "\n",
    "$$F_{i\\rightarrow j}=\\frac{1}{2}\\left[S-\\left[S^2-4\\left(\\frac{r_j}{r_i}\\right)^2\\right]^{1/2}\\right]$$"
   ]
  },
  {
   "cell_type": "code",
   "execution_count": 56,
   "metadata": {},
   "outputs": [],
   "source": [
    "# Inputs\n",
    "r_j = 0.4\n",
    "r_i = 0.4\n",
    "L   = 1"
   ]
  },
  {
   "cell_type": "code",
   "execution_count": 57,
   "metadata": {},
   "outputs": [
    {
     "data": {
      "text/plain": [
       "0.12304735160446967"
      ]
     },
     "execution_count": 57,
     "metadata": {},
     "output_type": "execute_result"
    }
   ],
   "source": [
    "R1 = r_i/L\n",
    "R2 = r_j/L\n",
    "\n",
    "S = 1+(1+R1**2)/R2**2\n",
    "\n",
    "F = (1/2)*(S-(S**2-4*(r_j/r_i)**2)**(1/2))\n",
    "F"
   ]
  },
  {
   "cell_type": "markdown",
   "metadata": {},
   "source": [
    "### Perpendicular Rectangles with a Common Edge\n",
    "\n",
    "<img src=\"\\img\\3.png\">\n",
    "\n",
    "$$H=\\frac{Z}{X}\\text{ and }W=\\frac{Y}{X}$$\n",
    "\n",
    "$$F_{i\\rightarrow j}= \\frac{1}{\\pi W}\\left(W\\tan^{-1}\\frac{1}{W}+H\\tan^{-1}\\frac{1}{H}-(H^2+W^2)^{1/2}\\tan^{-1}\\left(\\frac{1}{(H^2+W^2)^{1/2}}\\right)+\n",
    "\\frac{1}{4}\\ln\\left[\\frac{(1+W^2)(1+H^2)}{1+W^2+H^2}\\left[\\frac{W^2(1+W^2+H^2)}{(1+W^2)(W^2+H^2)}\\right]^{W^2}\\left[\\frac{H^2(1+H^2+W^2)}{(1+H^2)(H^2+W^2)}\\right]^{H^2}\\right]\\right)$$"
   ]
  },
  {
   "cell_type": "code",
   "execution_count": 31,
   "metadata": {},
   "outputs": [],
   "source": [
    "# Inputs \n",
    "x = 1\n",
    "y = 2\n",
    "z = 3"
   ]
  },
  {
   "cell_type": "code",
   "execution_count": 32,
   "metadata": {},
   "outputs": [
    {
     "data": {
      "text/plain": [
       "0.1616940143330276"
      ]
     },
     "execution_count": 32,
     "metadata": {},
     "output_type": "execute_result"
    }
   ],
   "source": [
    "H = z/x\n",
    "W = y/x\n",
    "\n",
    "F = (1/(np.pi*W))*(W*np.arctan(1/W)+\n",
    "                   H*np.arctan(1/H)-\n",
    "                   (H**2+W**2)**(1/2)*\n",
    "                   np.arctan(1/(H**2+W**2)**(1/2))+\n",
    "                   0.25*np.log((((1+W**2)*(1+H**2))/(1+W**2+H**2))*(W**2*(1+W**2+H**2)/((1+W**2)*(W**2+H**2)))**(W**2)*(H**2*(1+H**2+W**2)/((1+H**2)*(H**2+W**2)))**(H**2)))\n",
    "F"
   ]
  },
  {
   "cell_type": "markdown",
   "metadata": {},
   "source": [
    "# 2D"
   ]
  },
  {
   "cell_type": "markdown",
   "metadata": {},
   "source": [
    "### Parallel Plates\n",
    "\n",
    "<img src=\"\\img\\4.png\">\n",
    "\n",
    "$$W_i=\\frac{w_i}{L}\\text{ and }W_j=\\frac{w_j}{L}$$\n",
    "\n",
    "$$F_{i\\rightarrow j}=\\frac{[(W_i+W_j)^2+4]^{1/2}-[(W_j-W_i)^2+4]^{1/2}}{2W_i}$$"
   ]
  },
  {
   "cell_type": "code",
   "execution_count": 36,
   "metadata": {},
   "outputs": [],
   "source": [
    "# Inputs\n",
    "w_t = 34\n",
    "w_b = 34\n",
    "L   = 25"
   ]
  },
  {
   "cell_type": "code",
   "execution_count": 37,
   "metadata": {},
   "outputs": [
    {
     "data": {
      "text/plain": [
       "0.5059381085887761"
      ]
     },
     "execution_count": 37,
     "metadata": {},
     "output_type": "execute_result"
    }
   ],
   "source": [
    "W1 = w_t/L\n",
    "W2 = w_b/L\n",
    "\n",
    "F = (((W1+W2)**2+4)**(1/2)-((W2-W1)**2+4)**(1/2))/(2*W1)\n",
    "F"
   ]
  },
  {
   "cell_type": "markdown",
   "metadata": {},
   "source": [
    "### Inclined Plates\n",
    "\n",
    "<img src=\"\\img\\5.png\">\n",
    "\n",
    "$$F_{i\\rightarrow j}=1-\\sin\\left(\\frac{\\alpha}{2}\\right)$$"
   ]
  },
  {
   "cell_type": "code",
   "execution_count": 38,
   "metadata": {},
   "outputs": [],
   "source": [
    "# Inputs\n",
    "alpha = 45  "
   ]
  },
  {
   "cell_type": "code",
   "execution_count": 40,
   "metadata": {},
   "outputs": [
    {
     "data": {
      "text/plain": [
       "1.4871745124605096"
      ]
     },
     "execution_count": 40,
     "metadata": {},
     "output_type": "execute_result"
    }
   ],
   "source": [
    "F = 1 - np.sin(0.5*alpha)\n",
    "F"
   ]
  },
  {
   "cell_type": "markdown",
   "metadata": {},
   "source": [
    "### Perpendicular Plates with a Common Edge\n",
    "\n",
    "<img src=\"\\img\\6.png\">\n",
    "\n",
    "$$F_{i\\rightarrow j}=\\frac{1}{2}\\left[1+\\frac{w_j}{w_i}-\\left[1+\\left(\\frac{w_j}{w_i}\\right)^2\\right]^{1/2}\\right]$$"
   ]
  },
  {
   "cell_type": "code",
   "execution_count": 43,
   "metadata": {},
   "outputs": [],
   "source": [
    "# Inputs\n",
    "w = 34\n",
    "h = 25"
   ]
  },
  {
   "cell_type": "code",
   "execution_count": 45,
   "metadata": {},
   "outputs": [
    {
     "data": {
      "text/plain": [
       "0.24703094570561202"
      ]
     },
     "execution_count": 45,
     "metadata": {},
     "output_type": "execute_result"
    }
   ],
   "source": [
    "F = 0.5*(1+(h/w)-(1+(h/w)**2)**(1/2))\n",
    "F"
   ]
  },
  {
   "cell_type": "markdown",
   "metadata": {},
   "source": [
    "### Three Sided Enclosure\n",
    "\n",
    "<img src=\"\\img\\7.png\">\n",
    "\n",
    "$$F_{i\\rightarrow j}=\\frac{w_i+w_j-w_k}{2w_i}$$"
   ]
  },
  {
   "cell_type": "code",
   "execution_count": 52,
   "metadata": {},
   "outputs": [],
   "source": [
    "# Inputs\n",
    "w_i = 6\n",
    "w_j = 8\n",
    "w_k = 10"
   ]
  },
  {
   "cell_type": "code",
   "execution_count": 53,
   "metadata": {},
   "outputs": [
    {
     "data": {
      "text/plain": [
       "0.3333333333333333"
      ]
     },
     "execution_count": 53,
     "metadata": {},
     "output_type": "execute_result"
    }
   ],
   "source": [
    "F = (w_i+w_j-w_k)/(2*w_i)\n",
    "F"
   ]
  },
  {
   "cell_type": "markdown",
   "metadata": {},
   "source": [
    "### Infinite Plane and Row of Cylinders\n",
    "\n",
    "<img src=\"\\img\\8.png\">\n",
    "\n",
    "$$F_{i\\rightarrow j}=1-\\left[1-\\left(\\frac{D}{s}\\right)^2\\right]^{1/2}+\\frac{D}{s}\\tan^{-1}\\left(\\frac{s^2-D^2}{D^2}\\right)^{1/2}$$"
   ]
  },
  {
   "cell_type": "code",
   "execution_count": 54,
   "metadata": {},
   "outputs": [
    {
     "data": {
      "text/plain": [
       "1.0"
      ]
     },
     "execution_count": 54,
     "metadata": {},
     "output_type": "execute_result"
    }
   ],
   "source": [
    "# Inputs\n",
    "D = 1\n",
    "s = 1\n",
    "\n",
    "F = 1 - (1-(D/s)**2)**(1/2)+(D/s)*np.arctan((s**2-D**2)/D**2)**(1/2)\n",
    "F"
   ]
  },
  {
   "cell_type": "code",
   "execution_count": null,
   "metadata": {},
   "outputs": [],
   "source": []
  }
 ],
 "metadata": {
  "kernelspec": {
   "display_name": "Python 3",
   "language": "python",
   "name": "python3"
  },
  "language_info": {
   "codemirror_mode": {
    "name": "ipython",
    "version": 3
   },
   "file_extension": ".py",
   "mimetype": "text/x-python",
   "name": "python",
   "nbconvert_exporter": "python",
   "pygments_lexer": "ipython3",
   "version": "3.7.4"
  }
 },
 "nbformat": 4,
 "nbformat_minor": 4
}
