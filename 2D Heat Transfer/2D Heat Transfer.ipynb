{
 "cells": [
  {
   "cell_type": "code",
   "execution_count": 1,
   "metadata": {},
   "outputs": [],
   "source": [
    "import numpy as np\n",
    "import matplotlib.pyplot as plt\n",
    "from matplotlib import animation\n",
    "from matplotlib.animation import PillowWriter\n",
    "from mpl_toolkits.mplot3d import Axes3D\n",
    "from skimage import color\n",
    "from skimage import io\n",
    "from numba import jit"
   ]
  },
  {
   "cell_type": "markdown",
   "metadata": {},
   "source": [
    "# 2-Dimensional Heat Transfer"
   ]
  },
  {
   "cell_type": "markdown",
   "metadata": {},
   "source": [
    "General Heat Equation assuming no source/sink:"
   ]
  },
  {
   "cell_type": "markdown",
   "metadata": {},
   "source": [
    "$$\\nabla^2T=\\frac{1}{\\alpha}\\frac{dT}{dt}$$"
   ]
  },
  {
   "cell_type": "markdown",
   "metadata": {},
   "source": [
    "* T _is temperature_\n",
    "* $\\alpha$ _is the thermal diffusivity_\n",
    "* t _is time_"
   ]
  },
  {
   "cell_type": "markdown",
   "metadata": {},
   "source": [
    "The equation can be discreetly approximated as:"
   ]
  },
  {
   "cell_type": "markdown",
   "metadata": {},
   "source": [
    "$$\\left [\\frac{T(t)_{x+1,y}-2T(t)_{x,y}+T(t)_{x-1,y}}{\\Delta x^2}+\\frac{T(t)_{x,y+1}-2T(t)_{x,y}+T(t)_{x,y-1}}{\\Delta y^2}\\right ]=\\frac{1}{\\alpha}\\frac{T(t+1)_{x,y}-T(t)_{x,y}}{\\Delta t}$$"
   ]
  },
  {
   "cell_type": "markdown",
   "metadata": {},
   "source": [
    "Now, letting our steps in the x and y direction be equal, we can say that $\\Delta y^2=\\Delta x^2$"
   ]
  },
  {
   "cell_type": "markdown",
   "metadata": {},
   "source": [
    "$$\\frac{1}{\\Delta x^2}\\left[T(t)_{x+1,y}+T(t)_{x-1,y}+T(t)_{x,y+1}+T(t)_{x,y-1}-4T(t)_{x,y}\\right ]=\\frac{1}{\\alpha}\\frac{T(t+1)_{x,y}-T(t)_{x,y}}{\\Delta t}$$"
   ]
  },
  {
   "cell_type": "markdown",
   "metadata": {},
   "source": [
    "Solving for the future time step $T(t+1)_{x,y}$ at the current point $(x,y)$:"
   ]
  },
  {
   "cell_type": "markdown",
   "metadata": {},
   "source": [
    "$$T(t+1)_{x,y}=T(t)_{x,y}+\\frac{\\alpha \\Delta t}{\\Delta x^2}\\left [T(t)_{x+1,y}+T(t)_{x-1,y}+T(t)_{x,y+1}+T(t)_{x,y-1}-4T(t)_{x,y}\\right ]$$"
   ]
  },
  {
   "cell_type": "markdown",
   "metadata": {},
   "source": [
    "Load Image"
   ]
  },
  {
   "cell_type": "code",
   "execution_count": 2,
   "metadata": {},
   "outputs": [],
   "source": [
    "img = color.rgb2gray(io.imread('3.png'))   # Read in image\n",
    "img = np.flip(img, axis=0)                      # Flip to correct orientation"
   ]
  },
  {
   "cell_type": "code",
   "execution_count": 3,
   "metadata": {},
   "outputs": [
    {
     "data": {
      "text/plain": [
       "<matplotlib.contour.QuadContourSet at 0x2e114979f48>"
      ]
     },
     "execution_count": 3,
     "metadata": {},
     "output_type": "execute_result"
    },
    {
     "data": {
      "image/png": "[encoded data removed]",
      "text/plain": [
       "<Figure size 432x432 with 1 Axes>"
      ]
     },
     "metadata": {
      "needs_background": "light"
     },
     "output_type": "display_data"
    }
   ],
   "source": [
    "plt.figure(figsize=(6,6))\n",
    "plt.contourf(img)"
   ]
  },
  {
   "cell_type": "code",
   "execution_count": 4,
   "metadata": {},
   "outputs": [],
   "source": [
    "shape_bool = img < 0.9     # Only dark pixels are selected"
   ]
  },
  {
   "cell_type": "markdown",
   "metadata": {},
   "source": [
    "Thermal diffusivity of the shape:"
   ]
  },
  {
   "cell_type": "code",
   "execution_count": 5,
   "metadata": {},
   "outputs": [],
   "source": [
    "k   = 1   # Conductivity constant\n",
    "rho = 1   # Density\n",
    "c_p = 1   # Specific heat\n",
    "\n",
    "#a   = k/(rho*c_p)  # Thermal diffusivity\n",
    "# a   = 5.2e-7        # Brick\n",
    "a   = 8.2e-8        # Wood\n",
    "# a   = 4.2e-6        # 304 Stainless\n",
    "# a   = 1.11e-4       # Copper\n",
    "# a   = 2.32e-7       # Example value"
   ]
  },
  {
   "cell_type": "markdown",
   "metadata": {},
   "source": [
    "Initial Temperatures"
   ]
  },
  {
   "cell_type": "code",
   "execution_count": 6,
   "metadata": {},
   "outputs": [],
   "source": [
    "shape_temp   = 25 + 273.15    # Celcius to kelvin\n",
    "ambient_temp = 165 + 273.15   # T_infinity"
   ]
  },
  {
   "cell_type": "markdown",
   "metadata": {},
   "source": [
    "Set the image components to the correct initial temperatures:"
   ]
  },
  {
   "cell_type": "code",
   "execution_count": 7,
   "metadata": {},
   "outputs": [],
   "source": [
    "init_heat = np.zeros([100,100]) + ambient_temp  # Set everything to ambient temp\n",
    "init_heat[shape_bool] = shape_temp              # Re-set shape to initial temp"
   ]
  },
  {
   "cell_type": "code",
   "execution_count": 8,
   "metadata": {},
   "outputs": [
    {
     "data": {
      "text/plain": [
       "<matplotlib.contour.QuadContourSet at 0x2e114a6e308>"
      ]
     },
     "execution_count": 8,
     "metadata": {},
     "output_type": "execute_result"
    },
    {
     "data": {
      "image/png": "[encoded data removed]",
      "text/plain": [
       "<Figure size 432x432 with 1 Axes>"
      ]
     },
     "metadata": {
      "needs_background": "light"
     },
     "output_type": "display_data"
    }
   ],
   "source": [
    "plt.figure(figsize=(6,6))\n",
    "plt.contourf(init_heat)"
   ]
  },
  {
   "cell_type": "markdown",
   "metadata": {},
   "source": [
    "Get \n",
    "\n",
    "* Number of differential equation update iterations `times`\n",
    "* Number of individual iterations we will take `times_snapshot`\n",
    "* The array of snapshots we will take of the shape"
   ]
  },
  {
   "cell_type": "code",
   "execution_count": 9,
   "metadata": {},
   "outputs": [],
   "source": [
    "times = 3600             # 1hr to seconds\n",
    "times_snapshot = 360     # Select every ten iterations\n",
    "freq = int(times/times_snapshot)\n",
    "\n",
    "# 3D array of individual time point snapshots of the whole image.\n",
    "heat_frames = np.zeros([times_snapshot, 100, 100])\n",
    "heat_frames[0] = init_heat     # First layer is initial conditions"
   ]
  },
  {
   "cell_type": "markdown",
   "metadata": {},
   "source": [
    "Set the dimensions of the problem"
   ]
  },
  {
   "cell_type": "code",
   "execution_count": 10,
   "metadata": {},
   "outputs": [],
   "source": [
    "x  = 0.05     # Meters\n",
    "dx = x/86  \n",
    "dt = 1"
   ]
  },
  {
   "cell_type": "markdown",
   "metadata": {},
   "source": [
    "Make sure that $\\frac{\\alpha \\Delta t}{\\Delta x^2}$ is small enough not to diverge. Must be less than 0.25"
   ]
  },
  {
   "cell_type": "code",
   "execution_count": 11,
   "metadata": {},
   "outputs": [
    {
     "data": {
      "text/plain": [
       "0.24258880000000002"
      ]
     },
     "execution_count": 11,
     "metadata": {},
     "output_type": "execute_result"
    }
   ],
   "source": [
    "s = a*dt/dx**2\n",
    "s"
   ]
  },
  {
   "cell_type": "markdown",
   "metadata": {},
   "source": [
    "Heat solver function"
   ]
  },
  {
   "cell_type": "code",
   "execution_count": 12,
   "metadata": {},
   "outputs": [],
   "source": [
    "@jit(\"f8[:,:,:](f8[:,:,:], b1[:,:])\", nopython=True, nogil=True)\n",
    "def solve_heat(heatmap, is_shape:bool):\n",
    "    cs = heatmap[0].copy()  # Current state\n",
    "    length = len(cs[0])\n",
    "    cf = 0  # Current frame\n",
    "    for t in range(1, times):   # Step time\n",
    "        ns = cs.copy()   # New state\n",
    "        for i in range(1, length-1):       # Step x\n",
    "            for j in range(1, length-1):   # Step y\n",
    "                if is_shape[j][i]:         # Only calculate for shape\n",
    "                    a_n = a \n",
    "                    ns[j][i] = cs[j][i] + a_n*dt/dx**2 * (cs[j+1][i] +\\\n",
    "                                                          cs[j-1][i] +\\\n",
    "                                                          cs[j][i+1] +\\\n",
    "                                                          cs[j][i-1] -\\\n",
    "                                                          4*cs[j][i])\n",
    "        cs = ns.copy()    # Advance the current state to new state\n",
    "        if t%freq==0:     # We only want to record every 10th\n",
    "            cf = cf + 1\n",
    "            heatmap[cf] = cs\n",
    "            \n",
    "    return heatmap"
   ]
  },
  {
   "cell_type": "markdown",
   "metadata": {},
   "source": [
    "Get heat snapshots (in Kelvin)"
   ]
  },
  {
   "cell_type": "code",
   "execution_count": 13,
   "metadata": {},
   "outputs": [
    {
     "data": {
      "text/plain": [
       "array([[438.15, 438.15, 438.15, ..., 438.15, 438.15, 438.15],\n",
       "       [438.15, 438.15, 438.15, ..., 438.15, 438.15, 438.15],\n",
       "       [438.15, 438.15, 438.15, ..., 438.15, 438.15, 438.15],\n",
       "       ...,\n",
       "       [438.15, 438.15, 438.15, ..., 438.15, 438.15, 438.15],\n",
       "       [438.15, 438.15, 438.15, ..., 438.15, 438.15, 438.15],\n",
       "       [438.15, 438.15, 438.15, ..., 438.15, 438.15, 438.15]])"
      ]
     },
     "execution_count": 13,
     "metadata": {},
     "output_type": "execute_result"
    }
   ],
   "source": [
    "heat_frames = solve_heat(heat_frames, shape_bool)\n",
    "heat_frames[0]"
   ]
  },
  {
   "cell_type": "markdown",
   "metadata": {},
   "source": [
    "Convert to Celcius"
   ]
  },
  {
   "cell_type": "code",
   "execution_count": 14,
   "metadata": {},
   "outputs": [],
   "source": [
    "heat_frames -= 273.15"
   ]
  },
  {
   "cell_type": "markdown",
   "metadata": {},
   "source": [
    "Plot the final time step heat results"
   ]
  },
  {
   "cell_type": "code",
   "execution_count": 15,
   "metadata": {},
   "outputs": [
    {
     "data": {
      "text/plain": [
       "<matplotlib.colorbar.Colorbar at 0x2e11732ae88>"
      ]
     },
     "execution_count": 15,
     "metadata": {},
     "output_type": "execute_result"
    },
    {
     "data": {
      "image/png": "[encoded data removed]",
      "text/plain": [
       "<Figure size 504x432 with 2 Axes>"
      ]
     },
     "metadata": {
      "needs_background": "light"
     },
     "output_type": "display_data"
    }
   ],
   "source": [
    "my_cmap = plt.get_cmap('inferno')\n",
    "plt.figure(figsize=(7,6))\n",
    "# b = plt.contourf(heat_frames[-1], 1300, cmap=my_cmap, vmin=shape_temp-273.15, vmax=ambient_temp-273.15)\n",
    "b = plt.contourf(heat_frames[-1],cmap=my_cmap)#, 100, cmap=my_cmap, vmin=shape_temp, vmax=ambient_temp)\n",
    "plt.colorbar(b)"
   ]
  },
  {
   "cell_type": "markdown",
   "metadata": {},
   "source": [
    "Make an animation"
   ]
  },
  {
   "cell_type": "code",
   "execution_count": 19,
   "metadata": {},
   "outputs": [
    {
     "data": {
      "image/png": "[encoded data removed]",
      "text/plain": [
       "<Figure size 432x432 with 1 Axes>"
      ]
     },
     "metadata": {
      "needs_background": "light"
     },
     "output_type": "display_data"
    }
   ],
   "source": [
    "def animate(i):\n",
    "    ax.clear()\n",
    "    ax.contourf(heat_frames[i], 100, cmap=my_cmap, vmin=shape_temp-273.15, vmax=ambient_temp-273.15)\n",
    "    return fig,\n",
    "\n",
    "fig, ax = plt.subplots(figsize=(6,6))\n",
    "ani = animation.FuncAnimation(fig, animate, frames=times_snapshot-1, interval=50)\n",
    "ani.save('animated3.gif',writer='pillow',fps=30)"
   ]
  },
  {
   "cell_type": "markdown",
   "metadata": {},
   "source": [
    "Plot hourly temperature changes"
   ]
  },
  {
   "cell_type": "code",
   "execution_count": 394,
   "metadata": {},
   "outputs": [],
   "source": [
    "t = np.linspace(0,10,len(heat_frames))\n",
    "avg_temp = np.array([heat_frame[shape_bool].mean() for heat_frame in heat_frames])\n",
    "min_temp = np.array([heat_frame[shape_bool].min() for heat_frame in heat_frames])\n",
    "stdv_temp  = np.array([heat_frame[shape_bool].std() for heat_frame in heat_frames])"
   ]
  },
  {
   "cell_type": "code",
   "execution_count": 395,
   "metadata": {},
   "outputs": [
    {
     "data": {
      "image/png": "[encoded data removed]",
      "text/plain": [
       "<Figure size 432x288 with 1 Axes>"
      ]
     },
     "metadata": {
      "needs_background": "light"
     },
     "output_type": "display_data"
    }
   ],
   "source": [
    "plt.plot(t, avg_temp, label='Avg Temp')\n",
    "plt.plot(t, min_temp, label='Min Temp')\n",
    "plt.ylabel('Temperature (C)')\n",
    "plt.xlabel('Time (hr)')\n",
    "plt.legend()\n",
    "plt.grid()"
   ]
  },
  {
   "cell_type": "code",
   "execution_count": null,
   "metadata": {},
   "outputs": [],
   "source": []
  }
 ],
 "metadata": {
  "kernelspec": {
   "display_name": "Python 3",
   "language": "python",
   "name": "python3"
  },
  "language_info": {
   "codemirror_mode": {
    "name": "ipython",
    "version": 3
   },
   "file_extension": ".py",
   "mimetype": "text/x-python",
   "name": "python",
   "nbconvert_exporter": "python",
   "pygments_lexer": "ipython3",
   "version": "3.7.4"
  }
 },
 "nbformat": 4,
 "nbformat_minor": 2
}
